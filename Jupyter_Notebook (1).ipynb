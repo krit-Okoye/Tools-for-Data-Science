{
 "cells": [
  {
   "cell_type": "markdown",
   "metadata": {},
   "source": [
    "<center>\n",
    "    <img src=\"https://cf-courses-data.s3.us.cloud-object-storage.appdomain.cloud/IBMDeveloperSkillsNetwork-DS0105EN-SkillsNetwork/labs/Module2/images/SN_web_lightmode.png\" width=\"300\" alt=\"cognitiveclass.ai logo\"  />\n",
    "</center>\n"
   ]
  },
  {
   "cell_type": "markdown",
   "metadata": {},
   "source": [
    "#### Add your code below following the instructions given in the course\n"
   ]
  },
  {
   "cell_type": "markdown",
   "metadata": {},
   "source": [
    "# My Jupyter Notebook on IBM Watson Studio "
   ]
  },
  {
   "cell_type": "markdown",
   "metadata": {},
   "source": [
    "### krit okoye"
   ]
  },
  {
   "cell_type": "markdown",
   "metadata": {},
   "source": [
    "I am interested in data science because data i want to become a Data Scientist under the industry of Finance ,I want to be able help clients to make best investments , having huge command of Data science it will personally help me to make good business decisions."
   ]
  },
  {
   "cell_type": "markdown",
   "metadata": {},
   "source": [
    "## The following Code will Display today's time and date"
   ]
  },
  {
   "cell_type": "code",
   "execution_count": null,
   "metadata": {},
   "outputs": [],
   "source": [
    "import datetime\n",
    "message = \"Today' Date and Time is \" \n",
    "print (message ,datetime.datetime.now())"
   ]
  },
  {
   "cell_type": "markdown",
   "metadata": {},
   "source": [
    "## how much money I will pay Coursera as tution fee for course \"data Science\":"
   ]
  },
  {
   "cell_type": "code",
   "execution_count": 6,
   "metadata": {},
   "outputs": [
    {
     "name": "stdout",
     "output_type": "stream",
     "text": [
      "For Data Science course you will pay in total 152 $.\n"
     ]
    }
   ],
   "source": [
    "import math                #importing math for math.ceil() function (rounding up).\n",
    "MonthlyFee = 38            # monthly fee in USD\n",
    "CourseLength = 11          # course length according to Coursera in month\n",
    "MyPace = 3                 # the coefficient which show how much times faster you can pass the course\n",
    "TotalFee = math.ceil(CourseLength/MyPace)*MonthlyFee # counting the fee\n",
    "print('For Data Science course you will pay in total',TotalFee,'$.') # output the values."
   ]
  },
  {
   "cell_type": "markdown",
   "metadata": {},
   "source": [
    "<h5>Because:<br></h5>\n",
    "1.There is the chance info is useful <br>\n",
    "2.It is not a lot for 11 months<br>\n",
    "I think it is fair enough<br>\n",
    "_____________________________________________________________________________________________\n",
    "To see how much will you pay, run this code:<br>\n",
    "import math                #importing math for math.ceil() function (rounding up).<br>\n",
    "MonthlyFee = 38            # monthly fee in USD<br>\n",
    "CourseLength = 11          # course length according to Coursera in month<br>\n",
    "MyPace = 3                 # the coefficient which show how much times faster you can pass the course<br>\n",
    "TotalFee = math.ceil(CourseLength/MyPace)*MonthlyFee # counting the fee<br>\n",
    "print('For Data Science course you will pay in total',TotalFee,'$.') # output the values.<br>\n",
    "\n",
    "\n",
    "  <li>So go on</li><br>\n",
    "    \n",
    "  <li>Here is the link to course:</li> \n"
   ]
  },
  {
   "cell_type": "markdown",
   "metadata": {},
   "source": [
    "IBM Data Science Professional Certificate\n",
    "<https://www.coursera.org/professional-certificates/ibm-data-science>"
   ]
  },
  {
   "cell_type": "markdown",
   "metadata": {},
   "source": [
    "![Sonny and Mariel high fiving.](https://content.codecademy.com/courses/learn-cpp/community-challenge/highfive.gif)\n",
    "\n"
   ]
  }
 ],
 "metadata": {
  "kernelspec": {
   "display_name": "Python",
   "language": "python",
   "name": "conda-env-python-py"
  },
  "language_info": {
   "codemirror_mode": {
    "name": "ipython",
    "version": 3
   },
   "file_extension": ".py",
   "mimetype": "text/x-python",
   "name": "python",
   "nbconvert_exporter": "python",
   "pygments_lexer": "ipython3",
   "version": "3.7.12"
  }
 },
 "nbformat": 4,
 "nbformat_minor": 4
}
